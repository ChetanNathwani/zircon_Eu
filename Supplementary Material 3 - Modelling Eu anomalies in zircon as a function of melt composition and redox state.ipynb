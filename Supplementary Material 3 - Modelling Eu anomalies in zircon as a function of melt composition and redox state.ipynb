{
 "cells": [
  {
   "cell_type": "markdown",
   "metadata": {},
   "source": [
    "<style>\n",
    ".text_cell_render {\n",
    "font-family: Times New Roman, serif;\n",
    "}\n",
    "</style>\n",
    "\n",
    "This Jupyter notebook is a supplementary file to the paper: From long-lived batholith construction to giant porphyry copper deposit formation: petrological and zircon chemical evolution of the Quellaveco District, Southern Peru, by *Chetan L. Nathwani, Adam T. Simmons, Simon J. E. Large, Jamie J. Wilkinson, Yannick Buret, Christian Ihlenfeld*\n",
    " "
   ]
  },
  {
   "cell_type": "markdown",
   "metadata": {},
   "source": [
    "# Import packages and define functions"
   ]
  },
  {
   "cell_type": "code",
   "execution_count": 3,
   "metadata": {},
   "outputs": [
    {
     "name": "stdout",
     "output_type": "stream",
     "text": [
      "C:\\Users\\chen\\Documents\\NHM BACKUP\\Documents\\PhD\\Python Projects\\Zircon_Modelling\n"
     ]
    },
    {
     "data": {
      "text/plain": [
       "'C:\\\\Users\\\\chen\\\\Documents\\\\NHM BACKUP\\\\Documents\\\\PhD\\\\Python Projects\\\\Zircon_Modelling'"
      ]
     },
     "execution_count": 3,
     "metadata": {},
     "output_type": "execute_result"
    }
   ],
   "source": [
    "import math as m\n",
    "import numpy as np\n",
    "import pandas as pd\n",
    "import random as rd\n",
    "import seaborn as sb\n",
    "import statistics as st\n",
    "from scipy.stats import norm\n",
    "import scipy as scipy\n",
    "import matplotlib.mlab as mlab\n",
    "import matplotlib.pyplot as plt\n",
    "np.set_printoptions(threshold=np.inf)\n",
    "from pylab import rcParams # for plotting parameters\n",
    "rcParams['figure.figsize'] = 5,5\n",
    "import sklearn\n",
    "from sklearn.linear_model import LinearRegression\n",
    "from sklearn.preprocessing import scale\n",
    "\n",
    "\n",
    "%matplotlib inline\n",
    "\n",
    "\n",
    "# Set and check working directory\n",
    "%cd C:\\Users\\chen\\Documents\\NHM BACKUP\\Documents\\PhD\\Python Projects\\Zircon_Modelling\n",
    "%pwd"
   ]
  },
  {
   "cell_type": "code",
   "execution_count": 4,
   "metadata": {},
   "outputs": [],
   "source": [
    "# Define a function that calcualtes the concentration of an element in a mineral\n",
    "def calculate_Cmin(Cmelt, bulk_D):\n",
    "    return Cmelt * bulk_D\n",
    "\n",
    "# Define a function that calculates the partition coefficient of Eu in a mineral using Aigner Torres et al. (2007)\n",
    "def calculate_DEu(DEu3, DEu2, Eu2Eu3melt):\n",
    "    return (DEu3 + (Eu2Eu3melt * DEu2))/(Eu2Eu3melt + 1)\n",
    "\n",
    "# Define a function that calculates DEu3\n",
    "def calculate_DEu3(Sm, Gd):\n",
    "    return m.sqrt(Sm*Gd)\n",
    "\n",
    "# Function for Eu3+/Eutotal in a melt from Burnham paper\n",
    "def Eu3Eutotal (logfO2, T, opt_bas):\n",
    "    return 1/(1+10**(-0.25*logfO2-(6410/T)-(14.2*opt_bas)+10.1))\n",
    "\n",
    "# Calculate Eu/Eu* norm\n",
    "def Eu_anomaly (Sm, Eu, Gd):\n",
    "    return (Eu/0.058)/m.sqrt((Sm/0.153)*(Gd/0.2055))\n",
    "\n",
    "# Calculate the Eu anomaly in zircon based on the D value for Eu3+ and Eu/Eu* melt\n",
    "def Eu_anomaly_zircon(Eu_anomaly_melt, DEu3):\n",
    "    return Eu_anomaly_melt*DEu3\n",
    "\n",
    "# Convert logfO2 to del FMQ\n",
    "def calculate_delFMQ(logfO2, T):\n",
    "    return logfO2 + (24441.9/T) - 8.29\n",
    "\n",
    "def calculate_logfO2(delFMQ, T):\n",
    "    return delFMQ + 8.29 - (24441.9/T)\n",
    "\n",
    "# Calculate Eu2+/Eu3+ using Burnham et al. (2015) experimental calibration\n",
    "\n",
    "def calculate_Eu2Eu3ratio(logfO2, T, opt_bas):\n",
    "    return 10**(-0.25*logfO2-(6410/T)-(14.2*opt_bas)+10.1)\n",
    "\n",
    "# Rearranged Eu anomaly Eq\n",
    "def calculate_Eu(Eu_anomaly, Sm, Gd):\n",
    "    return Eu_anomaly*(m.sqrt((Sm/0.153)*(Gd/0.2055)))*0.058\n",
    "\n",
    "# Use Blundy and Wood (1984)\n",
    "def calculate_lattice_strain(T, ri, r0, E, D0):\n",
    "    Di = D0*np.exp((-4*np.pi*E*(6.02214086e23)*((r0/2)*(r0-ri)**2-((1/3)*(r0-ri)**3)))/(8.314*T))\n",
    "    return(Di)"
   ]
  },
  {
   "cell_type": "markdown",
   "metadata": {},
   "source": [
    "# Calculating ranges for mineral-melt partition coefficients for Eu\\textsuperscript{2+}, Eu\\textsuperscript{3+}, Sm and Gd\n",
    "\n",
    "Partition coefficients for Sm, Eu\\textsuperscript{3+} and Gd are estimated using lattice strain theory (Blundy and Wood 1994) where the best fit parameters for the Onuma curves are compiled from literature sources (see Table 1.3 in Claiborne et al. 2017). D(Eu\\textsuperscript{2+}) is assumed to be 0 based on its low charge and mismatch cation size.\n",
    "\n",
    "D\\textsubscript{0} is expected to be strongly temperature dependent and is therefore varied as a function of temperature. The Young's Modulus (E\\textsubscript{M}) and site radius (r\\textsubscript{0}) are varied in tandem based on relationships in the best fit parameters (see Fig. 1 in Burnham 2020)."
   ]
  },
  {
   "cell_type": "code",
   "execution_count": 5,
   "metadata": {},
   "outputs": [
    {
     "data": {
      "image/png": "[encoded data removed]",
      "text/plain": [
       "<Figure size 504x144 with 3 Axes>"
      ]
     },
     "metadata": {
      "needs_background": "light"
     },
     "output_type": "display_data"
    }
   ],
   "source": [
    "# Import lattice strain parameters from Claiborne et al.2017 \n",
    "zircon_LS = pd.read_csv('Claiborne2017_Zircon_LatticeStrain.csv')\n",
    "zircon_LS = zircon_LS.drop(11, axis = 0) # remove IIKK outlier at index 11\n",
    "\n",
    "# Generate figure axes\n",
    "rcParams['figure.figsize'] = 7,2\n",
    "fig, axs = plt.subplots(1,3)\n",
    "\n",
    "\n",
    "p1 = np.polyfit(zircon_LS['T'], np.log(zircon_LS['D0']), 1) # fit least squares\n",
    "y = []\n",
    "for i in zircon_LS['T']:\n",
    "    i = np.exp((i * p1[0]) + p1[1])\n",
    "    y.append(i)\n",
    "axs[0].scatter(x = zircon_LS['T'], y = zircon_LS['D0'], c = 'grey')\n",
    "axs[0].set_xlabel('T (K)')\n",
    "axs[0].set_ylabel('ln$D_{0}$')\n",
    "axs[0].plot(zircon_LS['T'], y, '-')\n",
    "axs[0].set_yscale('log')\n",
    "axs[0].annotate('A', (940,900), ha='right')\n",
    "\n",
    "p2 = np.polyfit(zircon_LS['D0'], zircon_LS['Em3+'], 1) # fit least squares\n",
    "axs[1].scatter(x = zircon_LS['D0'], y = zircon_LS['Em3+'], c = 'grey')\n",
    "y = []\n",
    "for i in zircon_LS['D0']:\n",
    "    i = (i * p2[0]) + p2[1]\n",
    "    y.append(i)\n",
    "axs[1].plot(zircon_LS['D0'], y, '-')\n",
    "axs[1].set_xlabel('$D_{0}$')\n",
    "axs[1].set_ylabel('$E_{M}^{3+}$')\n",
    "axs[1].annotate('B', (1220,930), ha='right')\n",
    "\n",
    "p3 = np.polyfit(zircon_LS['D0'], zircon_LS['ro3+'], 1) # fit least squares\n",
    "axs[2].scatter(x = zircon_LS['D0'], y = zircon_LS['ro3+'], c = 'grey')\n",
    "y = []\n",
    "for i in zircon_LS['D0']:\n",
    "    i = (i * p3[0]) + p3[1]\n",
    "    y.append(i)\n",
    "axs[2].plot(zircon_LS['D0'], y, '-')\n",
    "axs[2].set_xlabel('$D_{0}$')\n",
    "axs[2].set_ylabel('$r_{0}$')\n",
    "axs[2].annotate('C', (1220,0.967), ha='right')\n",
    "fig.tight_layout()\n",
    "\n",
    "plt.savefig('Lattice_Strain_Fit_Parameters_Zircon.png', dpi = 1200)\n",
    "\n",
    "# Function to generate lattice strain parameters:\n",
    "\n",
    "def calculate_LS_parameters(temperature):\n",
    "    D0 = np.exp((temperature * p1[0]) + p1[1]) # partition coefficient of known\n",
    "    Em3 = ((D0 * p2[0]) + p2[1])*(10**9) # Young's modulus\n",
    "    r0 = ((D0 * p3[0]) + p3[1])*(10**-10) # radius of site\n",
    "    return(D0, Em3, r0)\n",
    "\n",
    "ri = [1.079, 1.066, 1.053] # Ionic Radii of Sm, Eu3+ and Gd (Shannon 1976)\n",
    "ri = [i * 10**-10 for i in ri] # convert to metres"
   ]
  },
  {
   "cell_type": "code",
   "execution_count": 6,
   "metadata": {},
   "outputs": [],
   "source": [
    "# Import whole-rock Sm, Gd and Eu composition spreadsheets using pandas\n",
    "AllWR = pd.read_csv(\"AllWRSmEuGd.csv\")\n",
    "\n",
    "# Calculate Eu anomalies for the whole-rock compositions\n",
    "All_Eu_anomalies = []\n",
    "for i, j, k in zip(AllWR.iloc[:,2], AllWR.iloc[:,3], AllWR.iloc[:,4]):\n",
    "    calculated_Eu_anomaly = Eu_anomaly(i , j, k)\n",
    "    All_Eu_anomalies.append(calculated_Eu_anomaly)\n",
    "    "
   ]
  },
  {
   "cell_type": "markdown",
   "metadata": {},
   "source": [
    "# Calculating (Eu/Eu\\*)\\textsubscript{zircon} as a function of (Eu/Eu\\*)\\textsubscript{melt}\n",
    "\n",
    "- The range of whole-rock Sm, Eu and Gd values from this study are used as input Eu/Eu* values for this. Since these values do not span to the low (Eu/Eu\\*)\\textsubscript{melt} neccessary for this model a linear regression is used to extrapolate to lower values\n",
    "- Once the (Eu/Eu\\*)\\textsubscript{zircon} have been calculated as a function of (Eu/Eu\\*)\\textsubscript{melt}, we can use this relationship to extract the (Eu/Eu\\*)\\textsubscript{melt} that is in equilibrium with the zircons for the oldest Yarabamba batholith rocks and for the Quellaveco porphyry rocks\n",
    "- The 95% confidence intervals for these (Eu/Eu\\*)\\textsubscript{melt} for early Yarabamba and Quellaveco porphyries are then used in the next stage of the model to test the effect of *f*O\\textsubscript{2}\n"
   ]
  },
  {
   "cell_type": "code",
   "execution_count": 7,
   "metadata": {},
   "outputs": [],
   "source": [
    "LinReg = LinearRegression()\n",
    "\n",
    "WRSm, WREu, WRGd = np.array(AllWR.iloc[:,2]), np.array(AllWR.iloc[:,3]), np.array(AllWR.iloc[:,4])\n",
    "WRSm_mean, WRSm_stdev = np.mean(WRSm), np.std(WRSm)\n",
    "WRSm_min, WRSm_max = np.min(WRSm), np.max(WRSm)\n",
    "extendedWRSm_max = WRSm_max*1\n",
    "random_WREu_anomaly = np.random.uniform(0.1, 1.2, 1000) # Generate range of Eu anomaly melt\n",
    "random_WREu_anomaly = np.reshape(random_WREu_anomaly, (-1, 1)) # reshape to 2d array\n",
    "\n",
    "# Set up LinReg model\n",
    "WRSm = np.reshape(WRSm, (-1,1))\n",
    "WRGd = np.reshape(WRGd, (-1,1))\n",
    "WREu_anomaly = np.reshape(All_Eu_anomalies, (-1,1))\n",
    "LinReg.fit(WREu_anomaly, WRSm)\n",
    "WRSm_pred = LinReg.predict(random_WREu_anomaly)\n",
    "LinReg.fit(WREu_anomaly, WRGd)\n",
    "WRGd_pred = LinReg.predict(random_WREu_anomaly)\n",
    "\n",
    "# now calculate Eu values:\n",
    "\n",
    "WRGd_pred = np.sort(np.ravel(WRGd_pred))\n",
    "WRSm_pred = np.sort(np.ravel(WRSm_pred))\n",
    "random_WREu_anomaly = np.sort(np.ravel(random_WREu_anomaly))\n",
    "\n",
    "WREu_pred = []\n",
    "for i, j, k in zip(random_WREu_anomaly, WRSm_pred, WRGd_pred):\n",
    "    Eu_pred = calculate_Eu(i, j, k)\n",
    "    WREu_pred.append(Eu_pred)\n",
    "    \n",
    "WREu_pred = np.random.uniform(np.min(WREu_pred), np.max(WREu_pred), 1000)\n",
    "\n",
    "random_AllWR = [WRSm_pred, WREu_pred, WRGd_pred]"
   ]
  },
  {
   "cell_type": "markdown",
   "metadata": {},
   "source": [
    "Optical basicity is varied with temperature by calculating theoretical optical basicity using Duffy (1993) for the experimental runs of Marxer and Ulmer (2019)"
   ]
  },
  {
   "cell_type": "code",
   "execution_count": 8,
   "metadata": {},
   "outputs": [
    {
     "data": {
      "image/png": "[encoded data removed]",
      "text/plain": [
       "<Figure size 216x216 with 1 Axes>"
      ]
     },
     "metadata": {
      "needs_background": "light"
     },
     "output_type": "display_data"
    }
   ],
   "source": [
    "rcParams['figure.figsize'] = 3,3\n",
    "Marxer_Ulmer = pd.read_csv('MarxerUlmer_T_opt.csv')\n",
    "Marxer_Ulmer['opt_bas'] = (Marxer_Ulmer['Si']*0.48)+(Marxer_Ulmer['Al']*0.6)+(Marxer_Ulmer['Mg'])+(Marxer_Ulmer['Mn']*0.78)+(Marxer_Ulmer['Fe']*1)+(Marxer_Ulmer['Ca']*1)+(Marxer_Ulmer['Na']*1.15)+(Marxer_Ulmer['K']*1.4)\n",
    "y = []\n",
    "Marxer_Ulmer['T'] = Marxer_Ulmer['T'] + 273.15\n",
    "plt.scatter(x = Marxer_Ulmer['T'], y = Marxer_Ulmer['opt_bas'], c = 'grey')\n",
    "Marxer_Ulmer = Marxer_Ulmer[Marxer_Ulmer['T'] < (890+273.15)]# Remove values greater with T outside of range appropriate\n",
    "p4 = np.polyfit(Marxer_Ulmer['T'], Marxer_Ulmer['opt_bas'], 1) # fit least squares\n",
    "for i in Marxer_Ulmer['T']:\n",
    "    i = (i * p4[0]) + p4[1]\n",
    "    y.append(i)\n",
    "plt.plot(Marxer_Ulmer['T'], y, '-')\n",
    "plt.xlabel('T (K)')\n",
    "plt.ylabel('Theoretical Optical Basicity')\n",
    "fig.tight_layout()\n",
    "plt.savefig('OpticalBasicity_Temperature.png', dpi = 1200, bbox_inches = \"tight\")\n",
    "\n",
    "def calculate_opt_bas(T):\n",
    "    opt_bas = (T * p4[0]) + p4[1]\n",
    "    return opt_bas"
   ]
  },
  {
   "cell_type": "markdown",
   "metadata": {},
   "source": [
    "# Setting up and running a Monte Carlo simulation\n",
    "\n",
    "- We want to calculate 10,000 results for (Eu/Eu\\*)\\textsubscript{zircon} through varying all parameters in the model randomly within reasonable limits\n",
    "- We then want to assess the effect (Eu/Eu\\*)\\textsubscript{melt} is having on (Eu/Eu\\*)\\textsubscript{zircon} (relative to other variables)\n",
    "- Finally, use the measured (Eu/Eu\\*)\\textsubscript{zircon} in the Yarabamba and Quellaveco units to estimate what the (Eu/Eu\\*)\\textsubscript{melt} was that is in equilbirium with the natural zircons"
   ]
  },
  {
   "cell_type": "code",
   "execution_count": 9,
   "metadata": {},
   "outputs": [
    {
     "name": "stdout",
     "output_type": "stream",
     "text": [
      "0.2614248530037876 0.1340229904654482\n",
      "0.4689286556973786 0.40544871763262674\n",
      "0.24019183550583717 0.14526802228129926\n",
      "0.6762113588250804 0.14526802228129926\n"
     ]
    },
    {
     "data": {
      "image/png": "[encoded data removed]",
      "text/plain": [
       "<Figure size 216x216 with 1 Axes>"
      ]
     },
     "metadata": {
      "needs_background": "light"
     },
     "output_type": "display_data"
    }
   ],
   "source": [
    "# Set ranges for T and fO2 for the first model Monte Carlo simulation\n",
    "fO2_max = 3\n",
    "fO2_min = 0\n",
    "T_max, T_min = 880, 700\n",
    "T_max, T_min = T_max + 273.15, T_min + 273.15\n",
    "# Create array of 1000 random observations\n",
    "random_T = np.random.uniform(T_max, T_min, 1000)\n",
    "random_fO2 = np.random.uniform(fO2_max, fO2_min, 1000)\n",
    "\n",
    "# Monte Carlo Simulation\n",
    "max_simulations = 10000\n",
    "number_of_simulations = 0\n",
    "master_list_All = []\n",
    "master_Eu_anomalies_All = []\n",
    "All_master_fO2 = []\n",
    "master_melt_Eu_All = []\n",
    "master_melt_Sm_All = []\n",
    "master_melt_Gd_All = []\n",
    "while number_of_simulations < max_simulations:\n",
    "    element = 0 # reset element number back to lanthanum\n",
    "    element_melt_comp = [] # reset empty list\n",
    "    rd_T = rd.choice(random_T)\n",
    "    rd_fO2 = rd.choice(random_fO2)\n",
    "    rd_fO2 = calculate_logfO2(rd_fO2, rd_T)\n",
    "    rd_opt_bas = calculate_opt_bas(rd_T)\n",
    "    rd_Eu2Eu3 = calculate_Eu2Eu3ratio(rd_fO2, rd_T, rd_opt_bas)\n",
    "    D0, Em3, r0 = calculate_LS_parameters(rd_T)\n",
    "    rd_DSm = calculate_lattice_strain(rd_T, ri[0], r0, Em3, D0)\n",
    "    rd_DEu3 = calculate_lattice_strain(rd_T, ri[1], r0, Em3, D0)\n",
    "    rd_DGd = calculate_lattice_strain(rd_T, ri[2], r0, Em3, D0)\n",
    "    rd_DEu = calculate_DEu(rd_DEu3, 0, rd_Eu2Eu3)\n",
    "    delFMQ = calculate_delFMQ(rd_fO2, rd_T)\n",
    "    index = rd.randrange(len(random_WREu_anomaly))\n",
    "    allSm = random_AllWR[0]\n",
    "    allGd = random_AllWR[2]\n",
    "    Sm = allSm[index]\n",
    "    Gd = allGd[index]\n",
    "    SmGd_melt_comp = []\n",
    "    Eu_anomaly_melt = random_WREu_anomaly[index]\n",
    "    Eu = calculate_Eu(Eu_anomaly_melt, Sm, Gd)\n",
    "    Sm_min = calculate_Cmin(Sm, rd_DSm)\n",
    "    Eu_min = calculate_Cmin(Eu, rd_DEu)\n",
    "    Gd_min = calculate_Cmin(Gd, rd_DGd)\n",
    "    zircon_Eu_anomaly = Eu_anomaly(Sm_min, Eu_min, Gd_min)\n",
    "    master_Eu_anomalies_All.append(zircon_Eu_anomaly)\n",
    "    All_master_fO2.append(delFMQ)\n",
    "    master_melt_Eu_All.append(Eu_anomaly_melt)\n",
    "    master_melt_Sm_All.append(Sm)\n",
    "    master_melt_Gd_All.append(Gd)\n",
    "    number_of_simulations = number_of_simulations + 1\n",
    "\n",
    "\n",
    "# Import natural compositions\n",
    "\n",
    "Zircon_Eu_Yarabamba = pd.read_csv(\"YarabambaSmEuGdZircon.csv\")\n",
    "Zircon_Eu_Porphyry = pd.read_csv(\"PorphyrySmEuGdZircon.csv\")\n",
    "\n",
    "Zircon_Eu_Yarabamba = np.single(Zircon_Eu_Yarabamba.iloc[:, 1:].to_numpy()) # convert to a numpy array and to floats, iloc to remove the sample name column\n",
    "Zircon_Eu_Porphyry = np.single(Zircon_Eu_Porphyry.iloc[:, 1:].to_numpy())\n",
    "yarabamba_Eu_natural = []\n",
    "# calculate Eu anomalies\n",
    "for i in Zircon_Eu_Yarabamba:\n",
    "    Eu_star = Eu_anomaly(i[0], i[1], i[2])\n",
    "    yarabamba_Eu_natural.append(Eu_star)\n",
    "porphyry_Eu_natural = []\n",
    "# calculate Eu anomalies\n",
    "for i in Zircon_Eu_Porphyry:\n",
    "    Eu_star = Eu_anomaly(i[0], i[1], i[2])\n",
    "    porphyry_Eu_natural.append(Eu_star)\n",
    "\n",
    "yar_q75, yar_q25 = np.percentile(yarabamba_Eu_natural, [75 ,25])\n",
    "yarabamba_Eu_melt_calculated = []\n",
    "yarabamba_Sm_melt_calculated = []\n",
    "yarabamba_Gd_melt_calculated = []\n",
    "yarabamba_Eu_anomaly_melt_calculated = []\n",
    "for i, j, k, l in zip(master_Eu_anomalies_All, master_melt_Eu_All, master_melt_Sm_All, master_melt_Gd_All):\n",
    "    if i < yar_q75 and i > yar_q25:\n",
    "            yarabamba_Eu_melt_calculated.append(j) # Eu anomaly\n",
    "            yarabamba_Sm_melt_calculated.append(k)\n",
    "            yarabamba_Gd_melt_calculated.append(l)\n",
    "            yarabamba_Eu_anomaly_melt_calculated.append(j)\n",
    "\n",
    "# Filter out so the extreme 5% values are removed from the calculated melts\n",
    "yar_calculated_q95, yar_calculated_q5 = np.percentile(yarabamba_Eu_anomaly_melt_calculated, [95, 5])\n",
    "yar_Sm = []\n",
    "yar_Euanom = []\n",
    "yar_Gd = []\n",
    "for i, j, k in zip (yarabamba_Eu_anomaly_melt_calculated, yarabamba_Sm_melt_calculated, yarabamba_Gd_melt_calculated):\n",
    "    if i < yar_calculated_q95 and i > yar_calculated_q5:\n",
    "        yar_Euanom.append(i)\n",
    "        yar_Sm.append(j)\n",
    "        yar_Gd.append(k)\n",
    "yarabamba_Eu_anomaly_melt_calculated = yar_Euanom\n",
    "yarabamba_Sm_melt_calculated = yar_Sm\n",
    "yarabamba_Gd_melt_calculated = yar_Gd\n",
    "\n",
    "# Find interquartile range\n",
    "por_q75, por_q25 = np.percentile(porphyry_Eu_natural, [75 ,25])\n",
    "print(por_q75, por_q25)\n",
    "porphyry_Eu_melt_calculated = []\n",
    "porphyry_Sm_melt_calculated = []\n",
    "porphyry_Gd_melt_calculated = []\n",
    "porphyry_Eu_anomaly_melt_calculated = []\n",
    "for i, j, k, l in zip(master_Eu_anomalies_All, master_melt_Eu_All, master_melt_Sm_All, master_melt_Gd_All):\n",
    "    if i < por_q75 and i > por_q25:\n",
    "        porphyry_Eu_melt_calculated.append(j) # Eu anomaly\n",
    "        porphyry_Sm_melt_calculated.append(k)\n",
    "        porphyry_Gd_melt_calculated.append(l)\n",
    "        porphyry_Eu_anomaly_melt_calculated.append(j)\n",
    "\n",
    "# Filter out so the extreme 5% values are removed from the calculated melts \n",
    "por_calculated_q95, por_calculated_q5 = np.percentile(porphyry_Eu_anomaly_melt_calculated, [95, 5])\n",
    "por_Sm = []\n",
    "por_Euanom = []\n",
    "por_Gd = []\n",
    "for i, j, k in zip (porphyry_Eu_anomaly_melt_calculated, porphyry_Sm_melt_calculated, porphyry_Gd_melt_calculated):\n",
    "    if i < por_calculated_q95 and i > por_calculated_q5:\n",
    "        por_Euanom.append(i)\n",
    "        por_Sm.append(j)\n",
    "        por_Gd.append(k)\n",
    "porphyry_Eu_anomaly_melt_calculated = por_Euanom\n",
    "porphyry_Sm_melt_calculated = por_Sm\n",
    "porphyry_Gd_melt_calculated = por_Gd\n",
    "\n",
    "yar_calculated_q95, yar_calculated_q5 = np.percentile(yarabamba_Eu_anomaly_melt_calculated, [95, 5])\n",
    "yar_Sm = []\n",
    "yar_Euanom = []\n",
    "yar_Gd = []\n",
    "for i, j, k in zip (yarabamba_Eu_anomaly_melt_calculated, yarabamba_Sm_melt_calculated, yarabamba_Gd_melt_calculated):\n",
    "    if i < yar_calculated_q95 and i > yar_calculated_q5:\n",
    "        yar_Euanom.append(i)\n",
    "        yar_Sm.append(j)\n",
    "        yar_Gd.append(k)\n",
    "yarabamba_Eu_anomaly_melt_calculated = yar_Euanom\n",
    "yarabamba_Sm_melt_calculated = yar_Sm\n",
    "yarabamba_Gd_melt_calculated = yar_Gd\n",
    "\n",
    "\n",
    "all_Eu_melt_calculated = []\n",
    "all_Sm_melt_calculated = []\n",
    "all_Gd_melt_calculated = []\n",
    "all_Eu_anomaly_melt_calculated = []\n",
    "for i, j, k, l in zip(master_Eu_anomalies_All, master_melt_Eu_All, master_melt_Sm_All, master_melt_Gd_All):\n",
    "    if i < por_calculated_q95 and i > yar_calculated_q5:\n",
    "        all_Eu_melt_calculated.append(j) # Eu anomaly\n",
    "        all_Sm_melt_calculated.append(k)\n",
    "        all_Gd_melt_calculated.append(l)\n",
    "        all_Eu_anomaly_melt_calculated.append(i)\n",
    "        \n",
    "\n",
    "# Plot modelled Eu/Eu* zircon as a function of melt Eu/Eu*\n",
    "ax = sb.kdeplot(master_melt_Eu_All, master_Eu_anomalies_All, shade=True, alpha=1, cmap='Reds')\n",
    "ax.collections[0].set_alpha(0) # remove background colour\n",
    "plt.xlabel('melt Eu/Eu*')\n",
    "plt.ylim(0, 1.3)\n",
    "plt.xlim(0, 1.3)\n",
    "plt.ylabel(\"Modelled zircon Eu/Eu*\")\n",
    "plt.title('The effect of melt Eu/Eu* on zircon Eu/Eu*')\n",
    "# plt.savefig('201117_VariedStartingComp.svg', format = 'svg', dpi = 1200)\n",
    "plt.show()     "
   ]
  },
  {
   "cell_type": "code",
   "execution_count": 13,
   "metadata": {},
   "outputs": [
    {
     "data": {
      "image/png": "[encoded data removed]",
      "text/plain": [
       "<Figure size 216x216 with 1 Axes>"
      ]
     },
     "metadata": {
      "needs_background": "light"
     },
     "output_type": "display_data"
    }
   ],
   "source": [
    "# Plot histograms for the obtained melts in equilbirium with the zircons\n",
    "plt.hist(yarabamba_Eu_anomaly_melt_calculated, bins = 25, label = 'Yarabamba')\n",
    "plt.hist(porphyry_Eu_anomaly_melt_calculated, bins = 25, label = 'Porphyry')\n",
    "plt.xlabel('melt Eu/Eu*')\n",
    "plt.title('Histogram of melt Eu/Eu* back-calculated from zircon Eu/Eu*')\n",
    "plt.legend()\n",
    "plt.show()\n",
    "\n",
    "AllWR['Eu/Eu*'] = (AllWR['Eu']/0.058)/np.sqrt((AllWR['Sm']/0.153)*(AllWR['Gd']/0.2055))\n",
    "AllWR[\"Blank\"] = \"\"\n",
    "yarabambaWR = AllWR.loc[AllWR['Age'] == 'Before 60 Ma']\n",
    "porphyryWR =  AllWR.loc[AllWR['Age'] == 'After 60 Ma']\n"
   ]
  },
  {
   "cell_type": "code",
   "execution_count": null,
   "metadata": {},
   "outputs": [],
   "source": []
  },
  {
   "cell_type": "markdown",
   "metadata": {},
   "source": [
    "# Modelling the effect of melt *f*O\\textsubscript{2} (and other parameters) on (Eu/Eu\\*)\\textsubscript{zircon}\n",
    "\n",
    "- For the Yarabamba (Eu/Eu\\*)\\textsubscript{melt} populations calculated,(Eu/Eu\\*)\\textsubscript{zircon} is calculated with varying *f*O\\textsubscript{2}, temperature, optical basicity and (Eu/Eu\\*)\\textsubscript{melt}.\n",
    "- Separate models (10,000 simulations) are run for each parameters to isolate its effect.\n",
    "- Increasing *f*O\\textsubscript{2} within geologically feasible ranges cannot solely account for the change in (Eu/Eu\\*)\\textsubscript{zircon}.\n"
   ]
  },
  {
   "cell_type": "code",
   "execution_count": 14,
   "metadata": {},
   "outputs": [
    {
     "data": {
      "image/png": "[encoded data removed]",
      "text/plain": [
       "<Figure size 360x360 with 4 Axes>"
      ]
     },
     "metadata": {
      "needs_background": "light"
     },
     "output_type": "display_data"
    }
   ],
   "source": [
    "test_conditions = ['Temperature','Melt Eu/Eu*','fO2', 'Optical Basicity']\n",
    "fig, axs = plt.subplots(2,2,figsize=(5,5))\n",
    "axr = axs.flatten()\n",
    "# Yarabamba estimated Eu melt composition, assess effect of fO2\n",
    "test = 0\n",
    "while test < len(test_conditions):\n",
    "    max_simulations = 10000\n",
    "    number_of_simulations = 0\n",
    "    master_Eu_anomalies = []\n",
    "    x_parameter = []\n",
    "    while number_of_simulations < max_simulations:\n",
    "        rd_fO2 = 1.5\n",
    "        rd_T = 800+273.15\n",
    "        rd_opt_bas = calculate_opt_bas(rd_T)\n",
    "        # Change parameter to vary based on test run\n",
    "        if test_conditions[test] == 'Temperature':\n",
    "            rd_T = rd.choice(random_T)\n",
    "        if test_conditions[test] == 'fO2':\n",
    "            rd_fO2 = rd.choice(random_fO2)\n",
    "        if test_conditions[test] == 'Optical Basicity':\n",
    "            rd_opt_bas = rd.choice(np.random.uniform(0.60, 0.54, 1000))\n",
    "        rd_fO2 = calculate_logfO2(rd_fO2, rd_T)\n",
    "        rd_Eu2Eu3 = calculate_Eu2Eu3ratio(rd_fO2, rd_T, rd_opt_bas)\n",
    "        D0, Em3, r0 = calculate_LS_parameters(rd_T)\n",
    "        rd_DSm = calculate_lattice_strain(rd_T, ri[0], r0, Em3, D0)\n",
    "        rd_DEu3 = calculate_lattice_strain(rd_T, ri[1], r0, Em3, D0)\n",
    "        rd_DGd = calculate_lattice_strain(rd_T, ri[2], r0, Em3, D0)\n",
    "        rd_DEu = calculate_DEu(rd_DEu3, 0, rd_Eu2Eu3)\n",
    "        delFMQ = calculate_delFMQ(rd_fO2, rd_T)\n",
    "        allSm = all_Sm_melt_calculated\n",
    "        allGd = all_Gd_melt_calculated\n",
    "        index = rd.randrange(len(all_Sm_melt_calculated))\n",
    "        if test_conditions[test] == 'Melt Eu/Eu*':\n",
    "            Sm = allSm[index]\n",
    "            Gd = allGd[index]\n",
    "            SmGd_melt_comp = []\n",
    "            Eu_anomaly_melt = all_Eu_anomaly_melt_calculated[index]\n",
    "        if test_conditions[test] != 'Melt Eu/Eu*':\n",
    "            Sm = np.mean(allSm)\n",
    "            Gd = np.mean(allGd)\n",
    "            SmGd_melt_comp = []\n",
    "            Eu_anomaly_melt = np.mean(all_Eu_anomaly_melt_calculated)\n",
    "#         Eu_anomaly_melt = yarabamba_Eu_anomaly_melt_calculated[index]\n",
    "        Eu = calculate_Eu(Eu_anomaly_melt, Sm, Gd)\n",
    "        Sm_min = calculate_Cmin(Sm, rd_DSm)\n",
    "        Eu_min = calculate_Cmin(Eu, rd_DEu)\n",
    "        Gd_min = calculate_Cmin(Gd, rd_DGd)\n",
    "        zircon_Eu_anomaly = Eu_anomaly(Sm_min, Eu_min, Gd_min)\n",
    "        master_Eu_anomalies.append(zircon_Eu_anomaly)\n",
    "        number_of_simulations = number_of_simulations + 1\n",
    "        if test_conditions[test] == 'Temperature':\n",
    "            rd_T = rd_T - 273.15\n",
    "            x_parameter.append(rd_T)\n",
    "        if test_conditions[test] == 'fO2':\n",
    "            x_parameter.append(delFMQ)\n",
    "        if test_conditions[test] == 'Melt Eu/Eu*':\n",
    "            x_parameter.append(Eu_anomaly_melt)\n",
    "        if test_conditions[test] == 'Optical Basicity':\n",
    "            x_parameter.append(rd_opt_bas)\n",
    "    axr[test].scatter(x_parameter, master_Eu_anomalies, c = 'grey')\n",
    "    axr[test].set_ylim(0,1)\n",
    "    test = test + 1\n",
    "\n",
    "axr[0].set_ylabel('zircon Eu/Eu*')\n",
    "axr[2].set_ylabel('zircon Eu/Eu*')\n",
    "axr[0].text(695,0.9, 'A', ha='left', fontsize = '12')\n",
    "axr[1].text(0.08,0.9, 'B', ha='left', fontsize = '12')\n",
    "axr[2].text(-0.1,0.9, 'C', ha='left', fontsize = '12')\n",
    "axr[3].text(0.538,0.9, 'D', ha='left', fontsize = '12')\n",
    "axr[0].set_xlabel('Temperature (°C)')\n",
    "axr[1].set_xlabel('Melt Eu/Eu*')\n",
    "axr[2].set_xlabel('ΔFMQ')\n",
    "axr[3].set_xlabel('Optical Basicity')\n",
    "axr[1].set_yticklabels([])\n",
    "axr[3].set_yticklabels([])\n",
    "\n",
    "fig.tight_layout()\n",
    "# plt.savefig('modelEuzircon_test_conditions.png', dpi = 1200)\n",
    "plt.show()\n",
    "\n",
    "# plt.savefig('201117_VariedStartingComp.svg', format = 'svg', dpi = 1200)\n",
    "plt.show()     \n"
   ]
  },
  {
   "cell_type": "code",
   "execution_count": 15,
   "metadata": {},
   "outputs": [
    {
     "data": {
      "image/png": "[encoded data removed]",
      "text/plain": [
       "<Figure size 216x216 with 1 Axes>"
      ]
     },
     "metadata": {
      "needs_background": "light"
     },
     "output_type": "display_data"
    }
   ],
   "source": [
    "# Generate a heat map for fO2 vs zircon Eu/Eu*\n",
    "\n",
    "# Monte Carlo Simulation\n",
    "max_simulations = 10000\n",
    "number_of_simulations = 0\n",
    "master_list_All = []\n",
    "master_Eu_anomalies_All = []\n",
    "All_master_fO2 = []\n",
    "master_melt_Eu_All = []\n",
    "master_melt_Sm_All = []\n",
    "master_melt_Gd_All = []\n",
    "while number_of_simulations < max_simulations:\n",
    "    element = 0 # reset element number back to lanthanum\n",
    "    element_melt_comp = [] # reset empty list\n",
    "    rd_T = rd.choice(random_T)\n",
    "    rd_fO2 = rd.choice(random_fO2)\n",
    "    rd_fO2 = calculate_logfO2(rd_fO2, rd_T)\n",
    "    rd_opt_bas = calculate_opt_bas(rd_T)\n",
    "    rd_Eu2Eu3 = calculate_Eu2Eu3ratio(rd_fO2, rd_T, rd_opt_bas)\n",
    "    D0, Em3, r0 = calculate_LS_parameters(rd_T)\n",
    "    rd_DSm = calculate_lattice_strain(rd_T, ri[0], r0, Em3, D0)\n",
    "    rd_DEu3 = calculate_lattice_strain(rd_T, ri[1], r0, Em3, D0)\n",
    "    rd_DGd = calculate_lattice_strain(rd_T, ri[2], r0, Em3, D0)\n",
    "    rd_DEu = calculate_DEu(rd_DEu3, 0, rd_Eu2Eu3)\n",
    "    delFMQ = calculate_delFMQ(rd_fO2, rd_T)\n",
    "    index = rd.randrange(len(random_WREu_anomaly))\n",
    "    allSm = all_Sm_melt_calculated\n",
    "    allGd = all_Gd_melt_calculated\n",
    "    index = rd.randrange(len(all_Sm_melt_calculated))\n",
    "    Sm = allSm[index]\n",
    "    Gd = allGd[index]\n",
    "    SmGd_melt_comp = []\n",
    "    Eu_anomaly_melt = all_Eu_anomaly_melt_calculated[index]\n",
    "    Eu = calculate_Eu(Eu_anomaly_melt, Sm, Gd)\n",
    "    Sm_min = calculate_Cmin(Sm, rd_DSm)\n",
    "    Eu_min = calculate_Cmin(Eu, rd_DEu)\n",
    "    Gd_min = calculate_Cmin(Gd, rd_DGd)\n",
    "    zircon_Eu_anomaly = Eu_anomaly(Sm_min, Eu_min, Gd_min)\n",
    "    master_Eu_anomalies_All.append(zircon_Eu_anomaly)\n",
    "    All_master_fO2.append(delFMQ)\n",
    "    master_melt_Eu_All.append(Eu_anomaly_melt)\n",
    "    master_melt_Sm_All.append(Sm)\n",
    "    master_melt_Gd_All.append(Gd)\n",
    "    number_of_simulations = number_of_simulations + 1\n",
    "    \n",
    "ax = sb.kdeplot(All_master_fO2, master_Eu_anomalies_All, shade=True, alpha=1, cmap='Reds')\n",
    "ax.collections[0].set_alpha(0) # remove background colour\n",
    "plt.xlabel('ΔFMQ')\n",
    "plt.ylim(0, 1.3)\n",
    "plt.xlim(0, 3)\n",
    "plt.ylabel(\"Modelled zircon Eu/Eu*\")\n",
    "# plt.savefig('201130_VariedfO2.svg', format = 'svg', dpi = 1200)\n",
    "plt.show()    "
   ]
  }
 ],
 "metadata": {
  "kernelspec": {
   "display_name": "Python 3",
   "language": "python",
   "name": "python3"
  },
  "language_info": {
   "codemirror_mode": {
    "name": "ipython",
    "version": 3
   },
   "file_extension": ".py",
   "mimetype": "text/x-python",
   "name": "python",
   "nbconvert_exporter": "python",
   "pygments_lexer": "ipython3",
   "version": "3.7.4"
  }
 },
 "nbformat": 4,
 "nbformat_minor": 4
}
